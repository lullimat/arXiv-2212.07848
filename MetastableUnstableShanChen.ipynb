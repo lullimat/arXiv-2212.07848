{
 "cells": [
  {
   "cell_type": "code",
   "execution_count": null,
   "id": "c3176ec3-b657-49c5-8726-264f26a2d6b0",
   "metadata": {},
   "outputs": [],
   "source": [
    "# File Authorship Information\n",
    "__author__ = \"\"\"Matteo Lulli, Luca Biferale, Giacomo Falcucci, \n",
    "                Mauro Sbragaglia, Dong YangL and Xiaowen Shan\"\"\"\n",
    "__copyright__ = \"\"\"Copyright 2021, Matteo Lulli, Luca Biferale, \n",
    "Giacomo Falcucci, Mauro Sbragaglia and Xiaowen Shan, idea.deploy\"\"\"\n",
    "__license__ = \"\"\"Permission is hereby granted, free of charge, \n",
    "to any person obtaining a copy of this software and associated \n",
    "documentation files (the \"Software\"), to deal in the Software \n",
    "without restriction, including without limitation the rights to \n",
    "use, copy, modify, merge, publish, distribute, sublicense, \n",
    "and/or sell copies of the Software, \n",
    "and to permit persons to whom the Software is furnished to do so, \n",
    "subject to the following conditions:\n",
    "The above copyright notice and this permission notice shall be \n",
    "included in all copies or substantial portions of the Software.\n",
    "THE SOFTWARE IS PROVIDED \"AS IS\", WITHOUT WARRANTY OF ANY KIND, \n",
    "EXPRESS OR IMPLIED, INCLUDING BUT NOT LIMITED TO THE WARRANTIES \n",
    "OF MERCHANTABILITY, FITNESS FOR A PARTICULAR PURPOSE AND \n",
    "NONINFRINGEMENT. IN NO EVENT SHALL THE AUTHORS OR COPYRIGHT \n",
    "HOLDERS BE LIABLE FOR ANY CLAIM, DAMAGES OR OTHER LIABILITY, \n",
    "WHETHER IN AN ACTION OF CONTRACT, TORT OR OTHERWISE, ARISING FROM,\n",
    "OUT OF OR IN CONNECTION WITH THE SOFTWARE OR THE USE OR OTHER \n",
    "DEALINGS IN THE SOFTWARE.\"\"\"\n",
    "__maintainer__ = \"Matteo Lulli\"\n",
    "__email__ = \"matteo.lulli@gmail.com\"\n",
    "__status__ = \"Development\""
   ]
  },
  {
   "cell_type": "code",
   "execution_count": null,
   "id": "059c8735-a0e7-4d06-9b78-f28d17449975",
   "metadata": {},
   "outputs": [],
   "source": [
    "# Development cell\n",
    "%load_ext autoreload\n",
    "%autoreload 2"
   ]
  },
  {
   "cell_type": "markdown",
   "id": "e29f63c1-a6b8-49a0-929f-2225eb81098e",
   "metadata": {},
   "source": [
    "# Metastable and Unstable Dynamics in multi-phase lattice Boltzmann"
   ]
  },
  {
   "cell_type": "markdown",
   "id": "80a8551e-106b-458c-8d55-c963a1e23545",
   "metadata": {},
   "source": [
    "Authors: Matteo Lulli (1), Luca Biferale (2), Giacomo Falcucci (3), Mauro Sbragaglia (2), Dong Yang (1) and Xiaowen Shan (1)\n",
    "\n",
    "(1) Department of Mechanics and Aerospace Engineering, Southern University of Science and Technology, Shenzhen, Guangdong 518055, China\n",
    "\n",
    "(2) Department of Physics \\& INFN, University of Rome \\\"Tor Vergata\\\", Via della Ricerca Scientifica 1, 00133, Rome, Italy.\n",
    "\n",
    "(3) Department of Enterprise Engineering \\\"Mario Lucertini\\\", University of Rome \\\"Tor Vergata\\\", Via del Politecnico 1, 00133 Rome, Italy; John A. Paulson School of Engineering and Applied Physics, *Harvard University*,  33 Oxford Street, 02138 Cambridge, Massachusetts, USA.\n",
    "\n",
    "**Abstract:**\n",
    "We quantitatively characterize the metastability in a multi-phase lattice Boltzmann model. The structure factor of density fluctuations is theoretically obtained and numerically verified to a high precision, for all simulated wave-vectors and reduced temperatures. The static structure factor is found to consistently diverge as the temperature approaches the critical-point or the density approaches the spinodal line at a sub-critical temperature. Theoretically predicted critical exponents are observed in both cases. Finally, the phase separation in the unstable branch follows the same pattern, i.e. the generation of interfaces with different topology, as observed in molecular dynamics simulations. All results can be independently reproduced through the \"idea.deploy\" framework [https://github.com/lullimat/idea.deploy](https://github.com/lullimat/idea.deploy)"
   ]
  },
  {
   "cell_type": "markdown",
   "id": "ea06cc5d-857b-4e75-bfd8-9eb4e805785d",
   "metadata": {},
   "source": [
    "# Reproducibility\n",
    "\n",
    "This document is intended for those interested readers who want to reproduce the results reported in the paper [https://arxiv.org/abs/2212.07848](https://arxiv.org/abs/2212.07848). In the present case the computational resources needed should be available in general. \n",
    "\n",
    "Next development steps will include a class to measure the time required by each cell and output it in a .json file which can be sent to [matteo.lulli@gmail.com](mailto:matteo.lulli@gmail.com) so that average execution times will be available and organized according to the hardware.\n",
    "\n",
    "Each subsection can be executed independently and reproduce the results which will be stored locally in the directory 'reproduced-data', so that the data will be generated only once.\n",
    "\n",
    "Plots can also be generated using the same scripts employed for the figures of the paper. Since there are some issues in executing these scripts in the Jupyter environment we include them as separated files which are called from the cells themselves. **In order to reproduce the plots a working 'latex' installation is necessary to be present on the system.**\n",
    "\n",
    "This file will be kept updated for new local features and developments in the parent project [**idea.deploy**](https://github.com/lullimat/idea.deploy)\n",
    "\n",
    "This file is supposed to be pulled from the repository [https://github.com/lullimat/arXiv-2212.07848](https://github.com/lullimat/arXiv-2212.07848), from within the \"papers\" directory the idea.deploy project."
   ]
  },
  {
   "cell_type": "markdown",
   "id": "c30bfa60-592f-45a1-9ff4-ed26e317a06f",
   "metadata": {},
   "source": [
    "# Paper Results\n",
    "Using the next subsections/cells it is possible to reproduce all the results and plots reported in the paper."
   ]
  },
  {
   "cell_type": "markdown",
   "id": "c3eb3414-3e68-470b-b7db-42a081fb98bc",
   "metadata": {},
   "source": [
    "## Simulations: Hardware Selection\n",
    "In the following cells you are required to make a choice for the hardware to employ for the simulations. At the moment you need to stick to a given choice in order to visualize all the results. A more elastic management will be provided in future releases.\n",
    "\n",
    "**These are the only cells in the notebook that have a \"global\" character, i.e. they are needed by the rest of the notebook for the simulations cell to run.**\n",
    "\n",
    "By executing (shift-enter) the cell below, the hardware present in your system will be listed"
   ]
  },
  {
   "cell_type": "code",
   "execution_count": null,
   "id": "3eccf761-5f35-4e76-99e8-ba3b2cde990f",
   "metadata": {},
   "outputs": [],
   "source": [
    "# Display Hardware (click the arrow to unfold)\n",
    "import sys\n",
    "sys.path.append(\"../../\")\n",
    "\n",
    "from idpy.IdpyCode import IdpyHardware\n",
    "\n",
    "IdpyHardware()"
   ]
  },
  {
   "cell_type": "markdown",
   "id": "8f0b16f0-f909-46f1-8c94-ecfec72d0735",
   "metadata": {},
   "source": [
    "**To repdroduce the results you need hardware that support OpenCL with 64bits floating point variables (indicated by 'Double :  63') and/or CUDA.**\n",
    "\n",
    "The variable \"preferred_lang\" can be set as\n",
    "- OCL_T for OpenCL\n",
    "- CUDA_T for CUDA\n",
    "\n",
    "The variable \"preferred_device\" need to be set to the number matching the 64-bits floating point precision requirement discussed above.\n",
    "\n",
    "The variable \"preferred_kind\" can be used only with OCL_T and can be set as\n",
    "- \"gpu\" for selecting GPU devices\n",
    "- \"cpu\" for selecting CPU devices\n",
    "\n",
    "It also possible to run the simulations on 32-bits floating point variables, however the results will not match those presented in the paper."
   ]
  },
  {
   "cell_type": "code",
   "execution_count": null,
   "id": "0cfadb88-4173-421d-a94b-545dba0ba554",
   "metadata": {},
   "outputs": [],
   "source": [
    "# Language imports (click on left arrow to unfold)\n",
    "import sys\n",
    "sys.path.append(\"../../\")\n",
    "\n",
    "from idpy.IdpyCode import CUDA_T, OCL_T, idpy_langs_sys"
   ]
  },
  {
   "cell_type": "code",
   "execution_count": null,
   "id": "8e2f49b1-790a-4c0c-a571-1af13ddab786",
   "metadata": {},
   "outputs": [],
   "source": [
    "preferred_lang, preferred_device, preferred_kind = OCL_T, 0, \"cpu\""
   ]
  },
  {
   "cell_type": "code",
   "execution_count": null,
   "id": "e0decdf4-0d91-4207-9f13-9131b85c3104",
   "metadata": {},
   "outputs": [],
   "source": []
  }
 ],
 "metadata": {
  "kernelspec": {
   "display_name": "idea.deploy",
   "language": "python",
   "name": "idpy-env"
  },
  "language_info": {
   "codemirror_mode": {
    "name": "ipython",
    "version": 3
   },
   "file_extension": ".py",
   "mimetype": "text/x-python",
   "name": "python",
   "nbconvert_exporter": "python",
   "pygments_lexer": "ipython3",
   "version": "3.10.8"
  }
 },
 "nbformat": 4,
 "nbformat_minor": 5
}
